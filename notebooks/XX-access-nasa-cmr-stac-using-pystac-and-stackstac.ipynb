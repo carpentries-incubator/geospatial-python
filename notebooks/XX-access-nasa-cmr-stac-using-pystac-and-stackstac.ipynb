{
 "cells": [
  {
   "cell_type": "markdown",
   "id": "3b95e237-ebd3-4b47-90fa-a414e3a421dd",
   "metadata": {},
   "source": [
    "# Create Monthly NDVI composites using Harmonized Landsat Sentinel (HLS) data from NASA CMR STAC api using `pystac_client` & `stackstac` "
   ]
  },
  {
   "cell_type": "markdown",
   "id": "04fed57d-56a5-497f-84cf-d9f093c28b5c",
   "metadata": {},
   "source": [
    "In this tutorial we will do the following tasks:\n",
    "\n",
    "1. Use leafmap to select an Area of Interest (AOI) and save it as a geojson\n",
    "2. Explore NASA CMR STAC API using `pystac_client` CLI & Python API\n",
    "3. Understand & visualize the availability of Harmonized Landsat Sentinel (HLS) data for an AOI\n",
    "4. Use `dask` and `stackstac` to pull data efficiently\n",
    "5. Load the data as lazy `xarrays`, filter by cloudcover, compute NDVI & create monthly composites\n",
    "6. Visualize the evolution of beautiful crop circles over time"
   ]
  },
  {
   "cell_type": "markdown",
   "id": "e6fac036-9b4f-4a31-9c6f-f32fe055a95a",
   "metadata": {},
   "source": [
    "Before starting this tutorial make sure you signed-up for https://urs.earthdata.nasa.gov/ & have a `.netrc` file configured. If not please [run this script](https://git.earthdata.nasa.gov/projects/LPDUR/repos/daac_data_download_python/browse/EarthdataLoginSetup.py) before proceeding any further."
   ]
  },
  {
   "cell_type": "code",
   "execution_count": null,
   "id": "e572e203-49eb-479d-84ef-ef3290f6eeda",
   "metadata": {},
   "outputs": [],
   "source": [
    "# Import all the packages we will be using in our workflow\n",
    "import json\n",
    "import warnings\n",
    "import os\n",
    "from pathlib import Path\n",
    "\n",
    "import leafmap\n",
    "import geopandas as gpd\n",
    "import pandas as pd\n",
    "import matplotlib.pyplot as plt\n",
    "import rasterio as rio\n",
    "import stackstac\n",
    "import xarray as xr\n",
    "from dask import distributed\n",
    "from geojson_rewind import rewind\n",
    "from osgeo import gdal\n",
    "from pystac_client import Client\n",
    "from IPython import display\n",
    "\n",
    "warnings.filterwarnings('ignore')"
   ]
  },
  {
   "cell_type": "markdown",
   "id": "c3cc3d09-c369-4159-9d50-c4e14cd10fc0",
   "metadata": {},
   "source": [
    "### Set GDAL configuration to successfully access LP DAAC Cloud Assets"
   ]
  },
  {
   "cell_type": "code",
   "execution_count": null,
   "id": "29b2155c-fd9e-406f-ab00-81cd9ea4fb67",
   "metadata": {},
   "outputs": [],
   "source": [
    "rio_env = rio.Env(GDAL_DISABLE_READDIR_ON_OPEN='TRUE',\n",
    "                  GDAL_HTTP_COOKIEFILE=os.path.expanduser('~/cookies.txt'),\n",
    "                  GDAL_HTTP_COOKIEJAR=os.path.expanduser('~/cookies.txt'))\n",
    "rio_env.__enter__()"
   ]
  },
  {
   "cell_type": "markdown",
   "id": "fec9d985-8da9-4b1b-a5a2-be0083322c7e",
   "metadata": {},
   "source": [
    "Create a `Path` object to `DATA` and look what we have inside it. We have a default `aoi.geojson` file that points to somewhere near Egypt's Thoshka Projekt. You can choose to use the default file or create your own AOI "
   ]
  },
  {
   "cell_type": "code",
   "execution_count": null,
   "id": "0990c762-c452-4350-96ad-d4159ee46d12",
   "metadata": {},
   "outputs": [],
   "source": [
    "DATA = Path('data')\n",
    "!ls {DATA}"
   ]
  },
  {
   "cell_type": "markdown",
   "id": "9f0bab0f-0c10-46c9-b4ba-b4df93b22f15",
   "metadata": {},
   "source": [
    "# Select an AOI\n",
    "\n",
    "We will use `leafmap` to select an AOI & save it as GeoJSON inside the `data/` folder. For reference on how to do this using leafmap please check the create_vector notebook: https://leafmap.org/notebooks/45_create_vector/"
   ]
  },
  {
   "cell_type": "code",
   "execution_count": null,
   "id": "84632fde-c1e0-4751-b3f7-b09d4026941b",
   "metadata": {},
   "outputs": [],
   "source": [
    "import leafmap.leafmap as leafmap"
   ]
  },
  {
   "cell_type": "code",
   "execution_count": null,
   "id": "8d481b0c-6201-4a2c-96e9-6910a5917def",
   "metadata": {},
   "outputs": [],
   "source": [
    "m = leafmap.Map(center=(31.5, 22.5), zoom=8, \n",
    "                draw_control=True, measure_control=False, fullscreen_control=False, attribution_control=True)\n",
    "m"
   ]
  },
  {
   "cell_type": "markdown",
   "id": "2c81816e-1529-4bd8-a227-da4adb2c8850",
   "metadata": {},
   "source": [
    "We can check if our newly created AOI is saved inside the `data/` folder. Here I saving it as `aoi.geojson`. "
   ]
  },
  {
   "cell_type": "code",
   "execution_count": null,
   "id": "1411f76d-4f40-4f10-a707-03ec5933fa4b",
   "metadata": {},
   "outputs": [],
   "source": [
    "!ls {DATA}"
   ]
  },
  {
   "cell_type": "code",
   "execution_count": null,
   "id": "334247c5-9ef3-4ca1-b520-07b987c5d8d6",
   "metadata": {},
   "outputs": [],
   "source": [
    "# Hack: Leaflet saves polygons in a clockwise manner in Feature Collection. We can fix this using `geojson_rewind`\n",
    "aoi = json.load((DATA/\"aoi.geojson\").open(\"r\"))\n",
    "aoi = rewind(aoi)\n",
    "json.dump(aoi, (DATA/\"aoi.geojson\").open(\"w\"))\n",
    "aoi"
   ]
  },
  {
   "cell_type": "markdown",
   "id": "e18dccca-dff4-493c-9079-cc4fd32879dc",
   "metadata": {},
   "source": [
    "# NASA CMR STAC\n",
    "\n",
    "NASA's Common Metadata Repository (CMR) is a metadata catalog of NASA Earth Science data. STAC, or SpatioTemporal Asset Catalog, is a specification for describing geospatial data with JSON and GeoJSON. The related STAC-API specification defines an API for searching and browsing STAC catalogs.\n",
    "\n",
    "To know more about STAC & ARCO data formats please visit https://stacindex.org/ and https://pangeo-forge.readthedocs.io/en/latest/"
   ]
  },
  {
   "cell_type": "code",
   "execution_count": null,
   "id": "d61c9bd2-be1d-4e79-b610-58fbce7d6d53",
   "metadata": {},
   "outputs": [],
   "source": [
    "# NASA CMR STAC URL\n",
    "CMR_STAC_URL = \"https://cmr.earthdata.nasa.gov/stac\"\n",
    "providers = Client.open(CMR_STAC_URL)"
   ]
  },
  {
   "cell_type": "markdown",
   "id": "f04d1ef9-2030-4c23-8b3e-1eab78440d30",
   "metadata": {},
   "source": [
    "### Sub Catalog\n",
    "\n",
    "NASA CMR STAC base catalog has a list of sub-catalog such as NOAA, JAXA, LPCLOUD etc. Let us list them down here for reference."
   ]
  },
  {
   "cell_type": "code",
   "execution_count": null,
   "id": "c69234cf-4035-4823-89c0-9117a4ebc6f7",
   "metadata": {},
   "outputs": [],
   "source": [
    "for provider in providers.get_children():\n",
    "    print(provider.title)"
   ]
  },
  {
   "cell_type": "markdown",
   "id": "bdd694f9-843f-4522-afe4-3ed66c4bf335",
   "metadata": {},
   "source": [
    "### We will use the Harmonised Landsat Sentinel (HLS) data available under `LPCLOUD` Sub-Catalog\n",
    "\n",
    "HLS consists of input data from the joint NASA/USGS Landsat 8 and the ESA (European Space Agency) Sentinel-2A and Sentinel-2B satellites to generate a harmonized, analysis-ready surface reflectance data product with observations every two to three days."
   ]
  },
  {
   "cell_type": "markdown",
   "id": "d0267e6e-ac95-465a-bbc7-5a919f64eea7",
   "metadata": {},
   "source": [
    "# Access NASA CMR STAC LPCLOUD API using `pystac_client`\n",
    "\n",
    "We will look at using both the python-client & CLI of `pystac_client` to access STAC data. "
   ]
  },
  {
   "cell_type": "markdown",
   "id": "7b2dece8-49c4-455c-b768-8de9082f11ae",
   "metadata": {},
   "source": [
    "## 1. `pystac_client` CLI\n",
    "\n",
    "Here we are searching for tiles in collection \"HLSS30.v2.0\" & \"HLSL30.v2.0\" that intersects our defined AOI. We are defining the date-range between Jan-2019 to Jan-2022 & saving the results inside `data/aoi-catalog.json`"
   ]
  },
  {
   "cell_type": "code",
   "execution_count": null,
   "id": "69b1096c-f27e-48cc-9a02-d705b0ccb4d4",
   "metadata": {},
   "outputs": [],
   "source": [
    "!stac-client search 'https://cmr.earthdata.nasa.gov/stac/LPCLOUD' \\\n",
    "    --collection HLSS30.v2.0 HLSL30.v2.0 \\\n",
    "    --intersects {DATA/'aoi.geojson'} \\\n",
    "    --datetime 2019-01-01/2022-01-31 > data/aoi-catalog.json"
   ]
  },
  {
   "cell_type": "markdown",
   "id": "fff16d87-c8a0-4914-9d56-5779f6aff735",
   "metadata": {},
   "source": [
    "Now, we can look manually inside the raw json file which has details about each tile like properties, bounds, assets etc.\n",
    "\n",
    "We can also use [`stacterm`](https://github.com/stac-utils/stac-terminal) which is a library for displaying information (tables, calendars, plots, histograms) about STAC Items in the terminal to get a sense of the data coverage in our AOI."
   ]
  },
  {
   "cell_type": "markdown",
   "id": "97bb98c1-36a0-49b7-a2a1-a09fb7f4fefa",
   "metadata": {},
   "source": [
    "### List down the days on which we have HLS data available "
   ]
  },
  {
   "cell_type": "code",
   "execution_count": null,
   "id": "2e16fe14-29b4-4a35-bd99-8740726c5630",
   "metadata": {},
   "outputs": [],
   "source": [
    "!cat data/aoi-catalog.json | stacterm cal"
   ]
  },
  {
   "cell_type": "markdown",
   "id": "cd670328-412b-466f-9beb-3858fca5d764",
   "metadata": {},
   "source": [
    "> We have data from only HLSL30 (Landsat) collection available till Aug 2020, HLSS30 (Sentinel) collection starts appearing from Sept, 2020. We can also represent the same data in a tabular manner by applying filter & sort functions."
   ]
  },
  {
   "cell_type": "code",
   "execution_count": null,
   "id": "5d0c9240-d029-40ed-abb8-6990811344b4",
   "metadata": {
    "tags": []
   },
   "outputs": [],
   "source": [
    "!cat data/aoi-catalog.json | stacterm table \\\n",
    "    --fields collection date eo:cloud_cover \\\n",
    "    --sort eo:cloud_cover | head -20"
   ]
  },
  {
   "cell_type": "markdown",
   "id": "6fdef0d5-6f62-433e-9314-9d161778452d",
   "metadata": {},
   "source": [
    "## 2. `pystac_client` Python API"
   ]
  },
  {
   "cell_type": "markdown",
   "id": "02245d6b-7782-4c31-bfd0-79c08921e09b",
   "metadata": {},
   "source": [
    "Connect to the LPCLOUD CMR catalog & look at the list of available collections."
   ]
  },
  {
   "cell_type": "code",
   "execution_count": null,
   "id": "b0e0dd63-0b36-4d24-806d-bc60c5dcf540",
   "metadata": {},
   "outputs": [],
   "source": [
    "catalog = Client.open(f'{CMR_STAC_URL}/LPCLOUD')\n",
    "\n",
    "collections = catalog.get_children()\n",
    "for collection in collections:\n",
    "    print(collection.id, collection.title)"
   ]
  },
  {
   "cell_type": "markdown",
   "id": "895e5091-769a-44fc-a08c-929f0a684acd",
   "metadata": {},
   "source": [
    "> We will be using the HLSL30.v2.0 & HLSS30.v2.0 collections in this notebook"
   ]
  },
  {
   "cell_type": "markdown",
   "id": "5e649826-f050-448c-89a5-9cbb29f49599",
   "metadata": {},
   "source": [
    "### Query the STAC catalog to access HLS data separately for Sentinel & Landsat data\n",
    "\n",
    "We can also pass in a `query` or `filter` parameter to the `search` function to further filter down the item search results. STAC catalog search API gives us options to filter results based on spatio-temporal factors.  "
   ]
  },
  {
   "cell_type": "code",
   "execution_count": null,
   "id": "93fe52b1-e659-47ea-b001-4b532b909b40",
   "metadata": {},
   "outputs": [],
   "source": [
    "s30 = catalog.search(\n",
    "        collections=['HLSS30.v2.0'],\n",
    "        intersects=aoi['features'][0]['geometry'],\n",
    "        datetime='2019-01-01/2022-01-31',\n",
    ")\n",
    "l30 = catalog.search(\n",
    "        collections=['HLSL30.v2.0'],\n",
    "        intersects=aoi['features'][0]['geometry'],\n",
    "        datetime='2019-01-01/2022-01-31',\n",
    ")"
   ]
  },
  {
   "cell_type": "code",
   "execution_count": null,
   "id": "fe7df9d9-a76d-4d19-bcae-7db2710d6416",
   "metadata": {},
   "outputs": [],
   "source": [
    "s30.matched(), l30.matched()"
   ]
  },
  {
   "cell_type": "markdown",
   "id": "a4a7dcfd-a3ab-406b-a750-f5da995a6552",
   "metadata": {},
   "source": [
    "> 387 tiles of HLSS30 collection available for our AOI between Jan-2019 - Jan-2022  \n",
    "> 140 tiles of HLSL30 collection available for our AOI between Jan-2019 - Jan-2022  "
   ]
  },
  {
   "cell_type": "markdown",
   "id": "492c456d-b51f-403e-b58c-d56d6610930b",
   "metadata": {},
   "source": [
    "Read the filtered results & call `to_dict()` on them that stores them as `feature collections`"
   ]
  },
  {
   "cell_type": "code",
   "execution_count": null,
   "id": "7807ce7e-8ffc-4a98-8122-8ce6965a3e41",
   "metadata": {},
   "outputs": [],
   "source": [
    "s30_tiles, l30_tiles = s30.get_all_items(), l30.get_all_items()\n",
    "s30_tiles_json, l30_tiles_json = s30_tiles.to_dict(), l30_tiles.to_dict()"
   ]
  },
  {
   "cell_type": "code",
   "execution_count": null,
   "id": "b46f5462-1c27-45cd-8af2-498252187fb0",
   "metadata": {},
   "outputs": [],
   "source": [
    "display.JSON(s30_tiles_json)"
   ]
  },
  {
   "cell_type": "code",
   "execution_count": null,
   "id": "873b7174-5e68-4e98-969d-f5a8d1f0366b",
   "metadata": {},
   "outputs": [],
   "source": [
    "display.JSON(l30_tiles_json)"
   ]
  },
  {
   "cell_type": "markdown",
   "id": "f6b2d55c-e620-4544-b915-ee9f3e7106b2",
   "metadata": {},
   "source": [
    "### Plot the tile boundaries of HLSS30 & HLSL30 collection & our AOI\n",
    "\n",
    "Convert the `geojsons` into `GeoDataFrames` to visualize inside Leafmap. Use the layers icon to filter different tiles & hover over to look at the properties."
   ]
  },
  {
   "cell_type": "code",
   "execution_count": null,
   "id": "3b9529c9-fc3c-4a69-956d-478c804ed858",
   "metadata": {},
   "outputs": [],
   "source": [
    "s30_tiles_gdf = gpd.GeoDataFrame.from_features(s30_tiles_json, crs=\"EPSG:4326\")\n",
    "l30_tiles_gdf = gpd.GeoDataFrame.from_features(l30_tiles_json, crs=\"EPSG:4326\")\n",
    "aoi_gdf = gpd.GeoDataFrame.from_features(aoi[\"features\"], crs=\"EPSG:4326\")\n",
    "\n",
    "m = leafmap.Map(center=(40, -74), zoom=9)\n",
    "m.add_gdf(s30_tiles_gdf, layer_name=\"Sentinel Tiles\", fill_colors=[\"red\"])\n",
    "m.add_gdf(l30_tiles_gdf, layer_name=\"Landsat Tiles\", fill_colors=[\"blue\"])\n",
    "m.add_gdf(aoi_gdf, layer_name=\"AOI\", fill_colors=[\"black\"], zoom_to_layer=False)\n",
    "m"
   ]
  },
  {
   "cell_type": "markdown",
   "id": "06bbf34d-ca5b-40c7-a5ad-f3688b5a1491",
   "metadata": {},
   "source": [
    "# Story so far\n",
    "\n",
    "We used `pystac_client` to query all the tiles from HLSS30 & HLSL30 collections with in our defined spatial & temporal extent. \n",
    "\n",
    "We want to create montly NDVI composites over our AOI. To do this we have to\n",
    "- Go over each tile in the collection result from previous steps\n",
    "- Download the required assets i.e NIR & Red bands\n",
    "- Clip the tiles to AOI\n",
    "- Compute NDVI & create a montly composite\n",
    "\n",
    "**OR**\n",
    "\n",
    "We can take advantage of STAC & COGs structures in NASA CMR API and use `stackstac` along with `dask` to compute montly NDVI composites over the AOI in an efficient manner without downloading & processing all the tiles. "
   ]
  },
  {
   "cell_type": "markdown",
   "id": "4f40d909-55ac-495a-87e8-934d357bcc3e",
   "metadata": {},
   "source": [
    "# Stackstac\n",
    "\n",
    "`stackstac` converts STAC collections into lazy `xarrays`. It can read STAC metadata into xarray coordinates, that helps in indexing, filtering and computing aggregations over the dataset.  \n",
    "\n",
    "`stackstac` can also use `dask` to perform the computations parallely."
   ]
  },
  {
   "cell_type": "markdown",
   "id": "f3f37d2d-33b9-4b91-9118-030857fe4ce6",
   "metadata": {},
   "source": [
    "For this example, we will create a local `dask` cluster to perform our `stackstac` operations. You can easily replace this with a cluster in the cloud to speed up the operations.\n",
    "\n",
    "`Dask` has a nice UI that lets you visualize each step in the process and also provides information on compute & data usage. Visit the dashboard link to see more details."
   ]
  },
  {
   "cell_type": "code",
   "execution_count": null,
   "id": "7876ad3b-8514-4e91-bc6c-bea6e0a2b6f1",
   "metadata": {},
   "outputs": [],
   "source": [
    "cluster = distributed.LocalCluster()\n",
    "client = distributed.Client(cluster)\n",
    "client.dashboard_link"
   ]
  },
  {
   "cell_type": "code",
   "execution_count": null,
   "id": "0df29b6b-3e18-4b9e-b804-48905e204c46",
   "metadata": {},
   "outputs": [],
   "source": [
    "# Configure GDAL options to access COGs from Earthdata system\n",
    "dist_env = stackstac.DEFAULT_GDAL_ENV.updated(dict(\n",
    "    GDAL_DISABLE_READDIR_ON_OPEN='TRUE',\n",
    "    GDAL_HTTP_COOKIEFILE=os.path.expanduser('~/cookies.txt'),\n",
    "    GDAL_HTTP_COOKIEJAR=os.path.expanduser('~/cookies.txt'))\n",
    ")"
   ]
  },
  {
   "cell_type": "markdown",
   "id": "6e08823b-7eb8-4d45-988f-c51a0939a7ef",
   "metadata": {},
   "source": [
    "# Monthly NDVI composites \n",
    "\n",
    "We are trying to create monthly NDVI composites from Jan 2019 - Jan 2022 for defined AOI, in this case Thoshka Projekt, Egypt. We will need `NIR` & `Red` bands to compute NDVI from Sentinel & Landsat HLS Imagery. "
   ]
  },
  {
   "cell_type": "markdown",
   "id": "b81d9bcb-8dd8-4f8c-84ea-568e2e58c98a",
   "metadata": {},
   "source": [
    "**Sentinel 2**:\n",
    " - \"narrow\" NIR = B8A  \n",
    " - Red = B04  \n",
    "\n",
    "**Landsat 8**:\n",
    " - NIR = B05  \n",
    " - Red = B04  "
   ]
  },
  {
   "cell_type": "markdown",
   "id": "252477b4-4b5e-4b1e-81ce-d24a09d8cacb",
   "metadata": {},
   "source": [
    "`stackstac` can convert the STAC items into lazy xarray's. We can then use them to filter by cloud cover, clip to our defined AOI, compute monthly composite etc.\n",
    "\n",
    "Here, we define the `bbox` of our AOI, `bands` (NIR, Red) we need & the resolution of imagery to access."
   ]
  },
  {
   "cell_type": "code",
   "execution_count": null,
   "id": "bdf91264-48b4-437e-8422-566e1439f84f",
   "metadata": {},
   "outputs": [],
   "source": [
    "bbox = tuple(map(float, aoi_gdf.bounds.values[0]))\n",
    "\n",
    "s30_stack = stackstac.stack(\n",
    "    s30_tiles,\n",
    "    assets=['B8A', 'B04'],\n",
    "    bounds_latlon=bbox,\n",
    "    resolution=30,\n",
    "    epsg=32636,\n",
    "    gdal_env=dist_env\n",
    ")\n",
    "l30_stack = stackstac.stack(\n",
    "    l30_tiles,\n",
    "    assets=['B05', 'B04'],\n",
    "    bounds_latlon=bbox,\n",
    "    resolution=30,\n",
    "    epsg=32636,\n",
    "    gdal_env=dist_env\n",
    ")"
   ]
  },
  {
   "cell_type": "markdown",
   "id": "15fc203f-773f-42e3-8a63-d542a3ed82d9",
   "metadata": {},
   "source": [
    "> Great, that's all there is to `stackstac`. Now we have a lazy xarray & can perform all the operations on top of it. Note: All the operations are perfomed on the metadata & actual computation happens only when you call the `persists()` or `compute()` method on lazy xarray object."
   ]
  },
  {
   "cell_type": "markdown",
   "id": "07c1927c-ae9b-490f-91a9-f4425291e617",
   "metadata": {},
   "source": [
    "#### Fix the band mis-match in Sentinel & Landsat data"
   ]
  },
  {
   "cell_type": "code",
   "execution_count": null,
   "id": "35b47ad0-8e5b-4289-b786-a5b852a3655e",
   "metadata": {},
   "outputs": [],
   "source": [
    "s30_stack.coords['band'] = ['nir', 'red']\n",
    "l30_stack.coords['band'] = ['nir', 'red']"
   ]
  },
  {
   "cell_type": "markdown",
   "id": "3adecb4b-f535-479b-8de4-e46de0057f8d",
   "metadata": {},
   "source": [
    "#### Combine both into a single stack"
   ]
  },
  {
   "cell_type": "code",
   "execution_count": null,
   "id": "d6632814-a6a2-4d28-b655-265cbc216295",
   "metadata": {},
   "outputs": [],
   "source": [
    "stack = xr.concat((s30_stack, l30_stack), dim='time').sortby(\"time\")\n",
    "stack.data"
   ]
  },
  {
   "cell_type": "markdown",
   "id": "473061bd-a4ba-492e-8f0e-e75796f218df",
   "metadata": {},
   "source": [
    "#### Filter by cloud cover score"
   ]
  },
  {
   "cell_type": "code",
   "execution_count": null,
   "id": "03fa2816-b366-4f35-8666-a9dc05a9af29",
   "metadata": {},
   "outputs": [],
   "source": [
    "cloudless = stack[stack['eo:cloud_cover'] < 10]"
   ]
  },
  {
   "cell_type": "markdown",
   "id": "9b238275-2abb-472c-92f0-e3a480fa2341",
   "metadata": {},
   "source": [
    "#### Compute NDVI for the AOI"
   ]
  },
  {
   "cell_type": "code",
   "execution_count": null,
   "id": "365e46a3-d837-4721-967e-0426669f4961",
   "metadata": {},
   "outputs": [],
   "source": [
    "nir, red = cloudless.sel(band='nir'), cloudless.sel(band='red')\n",
    "ndvi = (nir - red)/((nir + red) + 1e-10)"
   ]
  },
  {
   "cell_type": "markdown",
   "id": "b3c3f3cf-403c-40af-b823-d119a2bce068",
   "metadata": {},
   "source": [
    "#### Monthy composite with median"
   ]
  },
  {
   "cell_type": "code",
   "execution_count": null,
   "id": "36f9f303-0c8a-4c87-9a31-d1109a89913e",
   "metadata": {},
   "outputs": [],
   "source": [
    "ndvi_monthly = ndvi.resample(time='M').median(dim='time')\n",
    "ndvi_monthly.data"
   ]
  },
  {
   "cell_type": "markdown",
   "id": "1b54b6b8-8ad5-4d84-a9d0-7078e6b101e3",
   "metadata": {},
   "source": [
    "#### Do the actual computation\n",
    "\n",
    "With `stackstac` we are not pulling all the tiles into our machine (which would have been several GBs), but just a subset of it i.e our AOI. You can monitor the progress using the dask UI."
   ]
  },
  {
   "cell_type": "code",
   "execution_count": null,
   "id": "e50dedc1-9d8a-4588-864d-96a25a474d02",
   "metadata": {},
   "outputs": [],
   "source": [
    "data = ndvi_monthly.compute()"
   ]
  },
  {
   "cell_type": "markdown",
   "id": "a5ca12cc-90f3-4b1e-a3a0-0f24757ec25d",
   "metadata": {},
   "source": [
    "#### Save the compute DataArray in NetCDF format"
   ]
  },
  {
   "cell_type": "code",
   "execution_count": null,
   "id": "e47c086d-7e8e-4892-b5ab-2f753d6cdd4a",
   "metadata": {},
   "outputs": [],
   "source": [
    "data.to_netcdf('data/egypt-thoska-ndvi-egypt.nc')"
   ]
  },
  {
   "cell_type": "markdown",
   "id": "0ec610b1-d9be-4605-be2a-2305eddf3b08",
   "metadata": {},
   "source": [
    "#### Visualize the NDVI composites"
   ]
  },
  {
   "cell_type": "code",
   "execution_count": null,
   "id": "bcaf0869-937b-453c-bb8d-d24092af0375",
   "metadata": {},
   "outputs": [],
   "source": [
    "fig, axes = plt.subplots(nrows=3, ncols=12, figsize=(25,25))\n",
    "\n",
    "for idx, ax in enumerate(axes.flatten()):\n",
    "    datum = data.isel(time=idx)\n",
    "    ax.imshow(datum, vmin=-1, vmax=1, cmap='RdYlGn')\n",
    "    ax.set_title(datum.time.dt.strftime(\"%b-%Y\").values)\n",
    "    ax.set_axis_off()\n",
    "    plt.subplots_adjust(hspace=0.1, wspace=0.1, bottom=0.2, top=0.45)"
   ]
  },
  {
   "cell_type": "markdown",
   "id": "24b52720-fc69-497b-be48-aa069b657798",
   "metadata": {},
   "source": [
    "> Ahh finally! We can see the beautiful crop circles evolving over time as a result of center-pivot irrigation."
   ]
  },
  {
   "cell_type": "code",
   "execution_count": null,
   "id": "bfcb5f8a-eec6-4f2e-8074-d6b50d01d148",
   "metadata": {},
   "outputs": [],
   "source": []
  }
 ],
 "metadata": {
  "kernelspec": {
   "display_name": "Python 3 (ipykernel)",
   "language": "python",
   "name": "python3"
  },
  "language_info": {
   "codemirror_mode": {
    "name": "ipython",
    "version": 3
   },
   "file_extension": ".py",
   "mimetype": "text/x-python",
   "name": "python",
   "nbconvert_exporter": "python",
   "pygments_lexer": "ipython3",
   "version": "3.9.10"
  }
 },
 "nbformat": 4,
 "nbformat_minor": 5
}
