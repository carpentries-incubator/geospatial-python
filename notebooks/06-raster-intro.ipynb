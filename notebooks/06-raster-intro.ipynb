{
 "cells": [
  {
   "cell_type": "code",
   "execution_count": 1,
   "id": "99cb2e48",
   "metadata": {},
   "outputs": [],
   "source": [
    "import pystac"
   ]
  },
  {
   "cell_type": "code",
   "execution_count": 10,
   "id": "030aa5dd",
   "metadata": {},
   "outputs": [],
   "source": [
    "file_items = pystac.ItemCollection.from_file(\"rhodes_sentinel-2.json\")"
   ]
  },
  {
   "cell_type": "code",
   "execution_count": 13,
   "id": "1ed6608c",
   "metadata": {},
   "outputs": [
    {
     "name": "stdout",
     "output_type": "stream",
     "text": [
      "S2A_35SNA_20230827_0_L2A\n",
      "2023-08-27 09:00:21.327000+00:00\n",
      "S2B_35SNA_20230822_0_L2A\n",
      "2023-08-22 09:00:20.047000+00:00\n",
      "S2A_35SNA_20230817_0_L2A\n",
      "2023-08-17 09:00:21.370000+00:00\n",
      "S2B_35SNA_20230812_0_L2A\n",
      "2023-08-12 09:00:21.069000+00:00\n",
      "S2A_35SNA_20230807_0_L2A\n",
      "2023-08-07 09:00:20.107000+00:00\n",
      "S2B_35SNA_20230802_0_L2A\n",
      "2023-08-02 09:00:20.321000+00:00\n",
      "S2A_35SNA_20230728_0_L2A\n",
      "2023-07-28 09:00:20.662000+00:00\n",
      "S2B_35SNA_20230723_0_L2A\n",
      "2023-07-23 09:00:21.476000+00:00\n",
      "S2A_35SNA_20230718_0_L2A\n",
      "2023-07-18 09:00:19.860000+00:00\n",
      "S2B_35SNA_20230713_0_L2A\n",
      "2023-07-13 09:00:20.114000+00:00\n",
      "S2A_35SNA_20230708_0_L2A\n",
      "2023-07-08 09:00:20.745000+00:00\n"
     ]
    }
   ],
   "source": [
    "for item in file_items:\n",
    "    print(item.id)\n",
    "    print(item.datetime)"
   ]
  },
  {
   "cell_type": "code",
   "execution_count": 18,
   "id": "a7d46fb1",
   "metadata": {},
   "outputs": [
    {
     "name": "stdout",
     "output_type": "stream",
     "text": [
      "<Item id=S2A_35SNA_20230708_0_L2A>\n"
     ]
    }
   ],
   "source": [
    "print(file_items[-1])"
   ]
  },
  {
   "cell_type": "code",
   "execution_count": 19,
   "id": "eb727b23",
   "metadata": {},
   "outputs": [
    {
     "name": "stdout",
     "output_type": "stream",
     "text": [
      "dict_keys(['aot', 'blue', 'coastal', 'granule_metadata', 'green', 'nir', 'nir08', 'nir09', 'red', 'rededge1', 'rededge2', 'rededge3', 'scl', 'swir16', 'swir22', 'thumbnail', 'tileinfo_metadata', 'visual', 'wvp', 'aot-jp2', 'blue-jp2', 'coastal-jp2', 'green-jp2', 'nir-jp2', 'nir08-jp2', 'nir09-jp2', 'red-jp2', 'rededge1-jp2', 'rededge2-jp2', 'rededge3-jp2', 'scl-jp2', 'swir16-jp2', 'swir22-jp2', 'visual-jp2', 'wvp-jp2'])\n"
     ]
    }
   ],
   "source": [
    "assets = file_items[-1].assets  # last item's asset dictionary\n",
    "print(assets.keys())"
   ]
  },
  {
   "cell_type": "code",
   "execution_count": 21,
   "id": "7704e6f4",
   "metadata": {},
   "outputs": [],
   "source": [
    "red_href = assets[\"red\"].href"
   ]
  },
  {
   "cell_type": "code",
   "execution_count": 22,
   "id": "aff5dd42",
   "metadata": {},
   "outputs": [
    {
     "data": {
      "text/plain": [
       "'https://sentinel-cogs.s3.us-west-2.amazonaws.com/sentinel-s2-l2a-cogs/35/S/NA/2023/7/S2A_35SNA_20230708_0_L2A/B04.tif'"
      ]
     },
     "execution_count": 22,
     "metadata": {},
     "output_type": "execute_result"
    }
   ],
   "source": [
    "red_href"
   ]
  },
  {
   "cell_type": "code",
   "execution_count": null,
   "id": "fc634b66",
   "metadata": {},
   "outputs": [],
   "source": [
    "items[0].assets.keys()"
   ]
  },
  {
   "cell_type": "code",
   "execution_count": null,
   "id": "a9cd9093",
   "metadata": {},
   "outputs": [],
   "source": [
    "print(items[0])"
   ]
  },
  {
   "cell_type": "code",
   "execution_count": null,
   "id": "79b4907e",
   "metadata": {},
   "outputs": [],
   "source": [
    "import rioxarray\n",
    "raster_rhodes_b9 = rioxarray.open_rasterio(items[0].assets[\"nir09\"].href)\n"
   ]
  },
  {
   "cell_type": "code",
   "execution_count": null,
   "id": "0835033b",
   "metadata": {},
   "outputs": [],
   "source": [
    "raster_rhodes_b9"
   ]
  },
  {
   "cell_type": "code",
   "execution_count": null,
   "id": "c2283b8d",
   "metadata": {},
   "outputs": [],
   "source": [
    "import rioxarray\n",
    "red = rioxarray.open_rasterio('red.tif')"
   ]
  },
  {
   "cell_type": "code",
   "execution_count": null,
   "id": "917eb250-3336-4267-8627-3086e1c77e95",
   "metadata": {},
   "outputs": [],
   "source": [
    "red"
   ]
  },
  {
   "cell_type": "code",
   "execution_count": null,
   "id": "40003414-76d8-429d-8216-8216c0820ea1",
   "metadata": {},
   "outputs": [],
   "source": [
    "red.values"
   ]
  },
  {
   "cell_type": "code",
   "execution_count": null,
   "id": "991c45d5-cdc2-4f6b-b9cc-c0eafae6b031",
   "metadata": {},
   "outputs": [],
   "source": [
    "red"
   ]
  },
  {
   "cell_type": "code",
   "execution_count": null,
   "id": "e8e2992e-7622-46e1-8fa4-628dfca39a3b",
   "metadata": {},
   "outputs": [],
   "source": [
    "red_lowres = rioxarray.open_rasterio('red.tif', overview_level=2)"
   ]
  },
  {
   "cell_type": "code",
   "execution_count": null,
   "id": "a6079969-3279-4688-b6d9-47ad62fbeefd",
   "metadata": {},
   "outputs": [],
   "source": [
    "red_lowres"
   ]
  },
  {
   "cell_type": "code",
   "execution_count": null,
   "id": "add50b14",
   "metadata": {},
   "outputs": [],
   "source": [
    "red_lowres.plot()"
   ]
  },
  {
   "cell_type": "code",
   "execution_count": null,
   "id": "f6c7e13a-c403-4d92-91c8-1c84bd857b1b",
   "metadata": {},
   "outputs": [],
   "source": [
    "red_lowres.plot(robust=True)"
   ]
  },
  {
   "cell_type": "markdown",
   "id": "298a2f57",
   "metadata": {},
   "source": [
    "## View Raster Coordinate Reference System (CRS) in Python"
   ]
  },
  {
   "cell_type": "code",
   "execution_count": null,
   "id": "4537eb58",
   "metadata": {},
   "outputs": [],
   "source": [
    "red.rio.crs"
   ]
  },
  {
   "cell_type": "code",
   "execution_count": null,
   "id": "78e4ee8b",
   "metadata": {},
   "outputs": [],
   "source": [
    "epsg = red.rio.crs.to_epsg()\n",
    "epsg "
   ]
  },
  {
   "cell_type": "code",
   "execution_count": null,
   "id": "30a29413",
   "metadata": {},
   "outputs": [],
   "source": [
    "from pyproj import CRS\n",
    "crs = CRS(epsg)\n",
    "crs"
   ]
  },
  {
   "cell_type": "markdown",
   "id": "1c141ce1",
   "metadata": {},
   "source": [
    "## Dealing with Missing Data"
   ]
  },
  {
   "cell_type": "code",
   "execution_count": null,
   "id": "e4209f4e",
   "metadata": {},
   "outputs": [],
   "source": [
    "red_nodata = rioxarray.open_rasterio('red.tif', masked=True, overview_level=2)"
   ]
  },
  {
   "cell_type": "code",
   "execution_count": null,
   "id": "584618a6-cdf2-4fdb-ac5b-fab4bb6fa795",
   "metadata": {},
   "outputs": [],
   "source": [
    "red_nodata"
   ]
  },
  {
   "cell_type": "code",
   "execution_count": null,
   "id": "d195d873",
   "metadata": {},
   "outputs": [],
   "source": [
    "red_lowres.where(red_lowres != red_lowres.rio.nodata)"
   ]
  },
  {
   "cell_type": "code",
   "execution_count": null,
   "id": "72f3c639-d41c-4010-95d5-f1d5787d193d",
   "metadata": {},
   "outputs": [],
   "source": [
    "red_nodata.plot(robust=True)"
   ]
  },
  {
   "cell_type": "markdown",
   "id": "79bddc3c",
   "metadata": {},
   "source": [
    "## Raster Bands"
   ]
  },
  {
   "cell_type": "code",
   "execution_count": null,
   "id": "3ca82d90-267e-4950-9d18-06a0c2cebbd6",
   "metadata": {},
   "outputs": [],
   "source": [
    "import pystac\n",
    "items = pystac.ItemCollection.from_file('rhodes_sentinel-2.json')"
   ]
  },
  {
   "cell_type": "code",
   "execution_count": null,
   "id": "236c6a79",
   "metadata": {},
   "outputs": [],
   "source": [
    "visual_lowres = rioxarray.open_rasterio(items[0].assets['visual'].href, overview_level=2)\n",
    "visual_lowres"
   ]
  },
  {
   "cell_type": "code",
   "execution_count": null,
   "id": "25f4f96f",
   "metadata": {},
   "outputs": [],
   "source": [
    "visual_lowres.shape"
   ]
  },
  {
   "cell_type": "code",
   "execution_count": null,
   "id": "1fc81234",
   "metadata": {},
   "outputs": [],
   "source": [
    "visual_lowres.plot()"
   ]
  },
  {
   "cell_type": "code",
   "execution_count": null,
   "id": "cdcf3774-3d25-42c9-9e7b-64608cf74eb4",
   "metadata": {},
   "outputs": [],
   "source": [
    "visual_lowres.plot.imshow()"
   ]
  }
 ],
 "metadata": {
  "jupytext": {
   "main_language": "python"
  },
  "kernelspec": {
   "display_name": "Python 3 (ipykernel)",
   "language": "python",
   "name": "python3"
  },
  "language_info": {
   "codemirror_mode": {
    "name": "ipython",
    "version": 3
   },
   "file_extension": ".py",
   "mimetype": "text/x-python",
   "name": "python",
   "nbconvert_exporter": "python",
   "pygments_lexer": "ipython3",
   "version": "3.10.13"
  }
 },
 "nbformat": 4,
 "nbformat_minor": 5
}
